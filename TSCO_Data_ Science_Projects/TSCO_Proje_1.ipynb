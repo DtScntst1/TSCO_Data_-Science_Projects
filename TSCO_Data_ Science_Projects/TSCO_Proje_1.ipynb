{
 "cells": [
  {
   "cell_type": "markdown",
   "metadata": {},
   "source": [
    "BASLA\n",
    "    // Kullanıcıdan ilk sayıyı al\n",
    "    İLK_SAYI = kullanıcıdan bir sayı al\n",
    "\n",
    "    // Kullanıcıdan ikinci sayıyı al\n",
    "    İKİNCİ_SAYI = kullanıcıdan bir sayı al\n",
    "\n",
    "    // İki sayıyı topla\n",
    "    TOPlam = İLK_SAYI + İKİNCİ_SAYI\n",
    "\n",
    "    // Sonucu ekranda göster\n",
    "    \"İki sayının toplamı: \" + TOPLAM yazdır\n",
    "SON"
   ]
  },
  {
   "cell_type": "code",
   "execution_count": 3,
   "metadata": {},
   "outputs": [
    {
     "name": "stdout",
     "output_type": "stream",
     "text": [
      "8\n"
     ]
    }
   ],
   "source": [
    "a=5 \n",
    "b=3\n",
    "print(a+b)"
   ]
  },
  {
   "cell_type": "markdown",
   "metadata": {},
   "source": [
    "BASLA\n",
    "    TOPLAM = 0  // Toplamı tutacak değişkeni 0 olarak başlat\n",
    "\n",
    "    İÇİN sayi = 1, sayi <= 100, sayi = sayi + 1 YAP\n",
    "        TOPLAM = TOPLAM + sayi  // Her sayıyı toplama ekle\n",
    "    SON\n",
    "\n",
    "    \"1'den 100'e kadar olan sayıların toplamı: \" + TOPLAM yazdır\n",
    "SON"
   ]
  },
  {
   "cell_type": "code",
   "execution_count": 4,
   "metadata": {},
   "outputs": [
    {
     "name": "stdout",
     "output_type": "stream",
     "text": [
      "1\n",
      "2\n",
      "3\n",
      "4\n",
      "5\n",
      "6\n",
      "7\n",
      "8\n",
      "9\n",
      "10\n",
      "11\n",
      "12\n",
      "13\n",
      "14\n",
      "15\n",
      "16\n",
      "17\n",
      "18\n",
      "19\n",
      "20\n",
      "21\n",
      "22\n",
      "23\n",
      "24\n",
      "25\n",
      "26\n",
      "27\n",
      "28\n",
      "29\n",
      "30\n",
      "31\n",
      "32\n",
      "33\n",
      "34\n",
      "35\n",
      "36\n",
      "37\n",
      "38\n",
      "39\n",
      "40\n",
      "41\n",
      "42\n",
      "43\n",
      "44\n",
      "45\n",
      "46\n",
      "47\n",
      "48\n",
      "49\n",
      "50\n",
      "51\n",
      "52\n",
      "53\n",
      "54\n",
      "55\n",
      "56\n",
      "57\n",
      "58\n",
      "59\n",
      "60\n",
      "61\n",
      "62\n",
      "63\n",
      "64\n",
      "65\n",
      "66\n",
      "67\n",
      "68\n",
      "69\n",
      "70\n",
      "71\n",
      "72\n",
      "73\n",
      "74\n",
      "75\n",
      "76\n",
      "77\n",
      "78\n",
      "79\n",
      "80\n",
      "81\n",
      "82\n",
      "83\n",
      "84\n",
      "85\n",
      "86\n",
      "87\n",
      "88\n",
      "89\n",
      "90\n",
      "91\n",
      "92\n",
      "93\n",
      "94\n",
      "95\n",
      "96\n",
      "97\n",
      "98\n",
      "99\n"
     ]
    }
   ],
   "source": [
    "for i in range (1, 100):\n",
    "    print(i)"
   ]
  },
  {
   "cell_type": "markdown",
   "metadata": {},
   "source": [
    "ASLA\n",
    "    sayi = kullanıcıdan bir sayı al\n",
    "    asalMi = DOĞRU\n",
    "\n",
    "    // 1'den küçük sayılar asal değildir\n",
    "    EĞER sayi <= 1 \n",
    "        asalMi = YANLIŞ\n",
    "\n",
    "    // 2'den başlayarak sayının kendisine kadar olan tüm sayılara bölünebilirliğini kontrol et\n",
    "    DEĞİLSE\n",
    "        İÇİN i = 2, i <= sayının karekökü, i++ YAP\n",
    "            EĞER sayi % i == 0 \n",
    "                asalMi = YANLIŞ\n",
    "                DÖNGÜDEN ÇIK\n",
    "            SON\n",
    "        SON\n",
    "\n",
    "    EĞER asalMi = DOĞRU İSE\n",
    "        \"Girilen sayı asal bir sayıdır.\" yazdır\n",
    "    DEĞİLSE\n",
    "        \"Girilen sayı asal bir sayı değildir.\" yazdır\n",
    "    SON\n",
    "SON"
   ]
  },
  {
   "cell_type": "code",
   "execution_count": 8,
   "metadata": {},
   "outputs": [
    {
     "name": "stdout",
     "output_type": "stream",
     "text": [
      "8 asal değildir.\n"
     ]
    }
   ],
   "source": [
    "import math\n",
    "\n",
    "sayi = int(input(\"Bir sayı giriniz: \"))\n",
    "\n",
    "if sayi <= 1:\n",
    "    print(sayi, \"asal değildir.\")\n",
    "else:\n",
    "    asal_mi = True\n",
    "    for i in range(2, int(math.sqrt(sayi)) + 1):\n",
    "        if sayi % i == 0:\n",
    "            asal_mi = False\n",
    "            break\n",
    "    if asal_mi:\n",
    "        print(sayi, \"asal bir sayıdır.\")\n",
    "    else:\n",
    "        print(sayi, \"asal değildir.\")"
   ]
  },
  {
   "cell_type": "code",
   "execution_count": null,
   "metadata": {},
   "outputs": [],
   "source": []
  },
  {
   "cell_type": "code",
   "execution_count": null,
   "metadata": {},
   "outputs": [],
   "source": []
  },
  {
   "cell_type": "code",
   "execution_count": null,
   "metadata": {},
   "outputs": [],
   "source": []
  },
  {
   "cell_type": "code",
   "execution_count": null,
   "metadata": {},
   "outputs": [],
   "source": []
  },
  {
   "cell_type": "code",
   "execution_count": null,
   "metadata": {},
   "outputs": [],
   "source": []
  }
 ],
 "metadata": {
  "kernelspec": {
   "display_name": "Python 3",
   "language": "python",
   "name": "python3"
  },
  "language_info": {
   "codemirror_mode": {
    "name": "ipython",
    "version": 3
   },
   "file_extension": ".py",
   "mimetype": "text/x-python",
   "name": "python",
   "nbconvert_exporter": "python",
   "pygments_lexer": "ipython3",
   "version": "3.11.5"
  }
 },
 "nbformat": 4,
 "nbformat_minor": 2
}
